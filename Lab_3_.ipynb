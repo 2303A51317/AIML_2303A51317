{
  "nbformat": 4,
  "nbformat_minor": 0,
  "metadata": {
    "colab": {
      "provenance": [],
      "authorship_tag": "ABX9TyOAfWQMeS6vDNg8+H0976q6",
      "include_colab_link": true
    },
    "kernelspec": {
      "name": "python3",
      "display_name": "Python 3"
    },
    "language_info": {
      "name": "python"
    }
  },
  "cells": [
    {
      "cell_type": "markdown",
      "metadata": {
        "id": "view-in-github",
        "colab_type": "text"
      },
      "source": [
        "<a href=\"https://colab.research.google.com/github/2303A51317/AIML_2303A51317/blob/main/Lab_3_.ipynb\" target=\"_parent\"><img src=\"https://colab.research.google.com/assets/colab-badge.svg\" alt=\"Open In Colab\"/></a>"
      ]
    },
    {
      "cell_type": "code",
      "execution_count": 1,
      "metadata": {
        "id": "7XOeYJr733sb"
      },
      "outputs": [],
      "source": [
        "from collections import namedtuple,Counter,defaultdict\n",
        "import random\n",
        "import math\n",
        "import functools\n",
        "cache=functools.lru_cache(10**6)"
      ]
    },
    {
      "cell_type": "markdown",
      "source": [
        " Implement the AI Game Strategy\n",
        " Part 1 (a). Install the Python Libraries required for Game Strategy. [CO2]\n",
        " 1. Install the python libraries- collections, random, math, functools,\n",
        " cache = functools.lru cache(10**6)\n",
        " 2. Implement a Game Class Constructor using action, is terminal, result, utility functions\n",
        " 3. A game is similar to a problem, but it has a terminal test instead of a goal test, and a\n",
        " utility for each terminal state.\n",
        " 4. Create a game subclass and implement actions, result, is terminal, and utility.\n",
        " 5. You will also need to set the initial attribute to the initial state; this can be done in the\n",
        " constructor"
      ],
      "metadata": {
        "id": "ly7H77L1463h"
      }
    },
    {
      "cell_type": "code",
      "source": [
        " class Game:\n",
        "  def actions(self, state):\n",
        "    ##Return a collection of the allowable moves from this state.\n",
        "    raise NotImplementedError\n",
        "  def result(self, state, move):\n",
        "    ##Return the state that results from making a move from a state.\n",
        "    raise NotImplementedError\n",
        "  def is_terminal(self, state):\n",
        "    ##Return True if this is a final state for the game.\n",
        "    return not self.actions(state)\n",
        "  def utility(self, state, player):\n",
        "    ##Return the value of this final state to player.\n",
        "    raise NotImplementedError"
      ],
      "metadata": {
        "id": "BwyO0dsn5BRi"
      },
      "execution_count": 8,
      "outputs": []
    },
    {
      "cell_type": "markdown",
      "source": [
        " Implement a Player Game using the Game Class Constructor."
      ],
      "metadata": {
        "id": "jGz4rhsQ8Hq_"
      }
    },
    {
      "cell_type": "code",
      "source": [
        "def play_game(game, strategies: dict, verbose=False):\n",
        "  ##Play a turn−taking game. strategies is a player name: function dict,\n",
        "  ##where function(state, game) is used to get the player s move.\n",
        "  state = game.initial\n",
        "  while not game.is_terminal(state):\n",
        "    player = state.to_move\n",
        "    move = strategies[player](game, state)\n",
        "    state = game.result(state, move)\n",
        "    if verbose:\n",
        "      print( Player , player, 'move:' , move)\n",
        "      print(state)\n",
        "      return state"
      ],
      "metadata": {
        "id": "tUkxCpjs8LTy"
      },
      "execution_count": 17,
      "outputs": []
    },
    {
      "cell_type": "markdown",
      "source": [
        " Part 2 Implement the Game Strategy Algorithms. [CO3]\n",
        " 1. Implement the MiniMax Search Algorithm"
      ],
      "metadata": {
        "id": "sqVRx5Ve-lJ1"
      }
    },
    {
      "cell_type": "code",
      "source": [
        " def  minimax_search(game, state):\n",
        "  ##Search game tree to determine best move; return (value, move) pair.\n",
        "    player = state.to_move\n",
        "    def max_value(state):\n",
        "        if game.is_terminal(state):\n",
        "            return game.utility(state, player), None\n",
        "\n",
        "        v, best_move = -math.inf, None\n",
        "        for a in game.actions(state):\n",
        "            v2, _ = min_value(game.result(state, a))\n",
        "            if v2 > v:\n",
        "                v, best_move = v2, a\n",
        "        return v, best_move\n",
        "\n",
        "    def min_value(state):\n",
        "        if game.is_terminal(state):\n",
        "            return game.utility(state, player), None\n",
        "\n",
        "        v, best_move = math.inf, None\n",
        "        for a in game.actions(state):\n",
        "            v2, _ = max_value(game.result(state, a))\n",
        "            if v2 < v:\n",
        "                v, best_move = v2, a\n",
        "        return v, best_move\n",
        "\n",
        "    player = state.to_move\n",
        "    return max_value(state)"
      ],
      "metadata": {
        "id": "sFE8yKjv-mKs"
      },
      "execution_count": 39,
      "outputs": []
    },
    {
      "cell_type": "markdown",
      "source": [
        "2. Implement the Alpha-Beta Search Algorithm"
      ],
      "metadata": {
        "id": "nfkdIW8aBR58"
      }
    },
    {
      "cell_type": "code",
      "source": [
        " def alphabeta_search(game, state):\n",
        "  ##Search game to determine best action; use alpha−beta pruning.\n",
        "  ##Search all the way to the leaves.\n",
        "    player = state.to_move\n",
        " def max_value(state, alpha, beta):\n",
        "        if game.is_terminal(state):\n",
        "            return game.utility(state, player), None\n",
        "            v, best_move = -math.inf, None\n",
        "        for a in game.actions(state):\n",
        "            v2, _ = min_value(game.result(state, a), alpha, beta)\n",
        "            if v2 > v:\n",
        "                v, best_move = v2, a\n",
        "            alpha = max(alpha, v)\n",
        "            if v >= beta:\n",
        "                return v, best_move\n",
        "        return v, best_move\n",
        "\n",
        " def min_value(state, alpha, beta):\n",
        "        if game.is_terminal(state):\n",
        "            return game.utility(state, player), None\n",
        "\n",
        "        v, best_move = math.inf, None\n",
        "        for a in game.actions(state):\n",
        "            v2, _ = max_value(game.result(state, a), alpha, beta)\n",
        "            if v2 < v:\n",
        "                v, best_move = v2, a\n",
        "            beta = min(beta, v)\n",
        "            if v <= alpha:\n",
        "                return v, best_move\n",
        "        return v, best_move\n",
        "        player = state.to_move\n",
        "        return max_value(state, -math.inf, math.inf)"
      ],
      "metadata": {
        "id": "9BXS6UI3BTcF"
      },
      "execution_count": 48,
      "outputs": []
    },
    {
      "cell_type": "markdown",
      "source": [
        " Part 3 Implement the Game Strategy using TicTocToe. [CO4]\n",
        " 1. Implement TicToCToe game using\n",
        " display constructors\n",
        " init , actions, result, is terminal, utility"
      ],
      "metadata": {
        "id": "RP6uFd_DC-7J"
      }
    },
    {
      "cell_type": "code",
      "source": [
        "  class Board:\n",
        "    def __init__(self, height, width, to_move, utility):\n",
        "        self.height = height\n",
        "        self.width = width\n",
        "        self.to_move = to_move\n",
        "        self.utility = utility\n",
        "        self.squares = {(x, y): None for x in range(width) for y in range(height)}\n",
        "\n",
        "    def new(self, square, to_move):\n",
        "        new_board = Board(self.height, self.width, to_move, self.utility)\n",
        "        new_board.squares = self.squares.copy()\n",
        "        new_board.squares[square] = to_move\n",
        "        return new_board\n",
        "\n",
        "    def __contains__(self, square):\n",
        "        return self.squares.get(square) is None\n",
        "\n",
        "    def __len__(self):\n",
        "        return sum(1 for value in self.squares.values() if value is None)\n",
        "\n",
        "    def __str__(self):\n",
        "        return '\\n'.join(\n",
        "            ' '.join(self.squares.get((x, y), '.') for x in range(self.width))\n",
        "            for y in range(self.height)\n",
        "        )\n",
        "\n",
        "class TicTacToe(Game):\n",
        "    def __init__(self, height=3, width=3, k=3):\n",
        "        self.k = k  # Number of pieces in a row needed to win\n",
        "        self.squares = {(x, y) for x in range(width) for y in range(height)}\n",
        "        self.initial = Board(height=height, width=width, to_move='X', utility=0)\n",
        "\n",
        "    def actions(self, board):\n",
        "        # Legal moves are any squares that are not yet taken\n",
        "        return self.squares - set(board.squares.keys())\n",
        "\n",
        "    def result(self, board, square):\n",
        "        # Place a marker for the current player on the square\n",
        "        player = board.to_move\n",
        "        new_board = board.new(square, 'O' if player == 'X' else 'X')\n",
        "\n",
        "        # Check for a win\n",
        "        win = self.k_in_row(new_board, player, square)\n",
        "        new_board.utility = (0 if not win else (1 if player == 'X' else -1))\n",
        "\n",
        "        return new_board\n",
        "\n",
        "    def utility(self, board, player):\n",
        "        # Return the utility value to the player\n",
        "        return board.utility if player == 'X' else -board.utility\n",
        "\n",
        "    def is_terminal(self, board):\n",
        "        # A board is terminal if it is won or there are no empty squares\n",
        "        return board.utility != 0 or len(board) == 0\n",
        "\n",
        "    def display(self, board):\n",
        "        print(board)\n",
        "\n",
        "    def k_in_row(self, board, player, square):\n",
        "        def in_row(x, y, dx, dy):\n",
        "            count = 0\n",
        "            while 0 <= x < board.width and 0 <= y < board.height and board.squares.get((x, y)) == player:\n",
        "                count += 1\n",
        "                x += dx\n",
        "                y += dy\n",
        "            return count\n",
        "\n",
        "        x, y = square\n",
        "        return any(\n",
        "            in_row(x, y, dx, dy) + in_row(x, y, -dx, -dy) - 1 >= self.k\n",
        "            for dx, dy in ((0, 1), (1, 0), (1, 1), (1, -1))\n",
        "        )"
      ],
      "metadata": {
        "id": "79EwYJH1DAgH"
      },
      "execution_count": 49,
      "outputs": []
    },
    {
      "cell_type": "markdown",
      "source": [
        " Implement a Game Board using defaultdict using init , new, missing , hash ,\n",
        " repr"
      ],
      "metadata": {
        "id": "DxBQdFW4DmXu"
      }
    },
    {
      "cell_type": "code",
      "source": [
        " class Board(defaultdict):\n",
        "  empty = '.'\n",
        "  off = '#'\n",
        "  def _init_ (self , width=8, height=8, to_move =None , **kwds):\n",
        "    self._dict_. update (width=width , height=height , to_move = to_move , **kwds)\n",
        "  def new(self, changes: dict, **kwds)->'Board' :\n",
        "     board = Board(width=self.width, height=self.height, **kwds)\n",
        "     board.update(self)\n",
        "     board.update(changes)\n",
        "     return board\n",
        "  def missing (self, loc):\n",
        "    x, y = loc\n",
        "    if 0 <= x < self.width and 0 <= y < self.height:\n",
        "      return self.empty\n",
        "    else:\n",
        "      return self.off\n",
        "  def hash (self):\n",
        "     return hash(tuple(sorted(self.items()))) + hash(self.to_move)\n",
        "  def repr(self):\n",
        "    def row(y):\n",
        "       return ' '.join(self[x, y] for x in range(self.width))\n",
        "    return '\\n' .join(map(row, range(self.height))) + '\\n'"
      ],
      "metadata": {
        "id": "fcWtDtNUDsj4"
      },
      "execution_count": 53,
      "outputs": []
    },
    {
      "cell_type": "markdown",
      "source": [
        " Implement random player(game,state) and player(search algorithm)"
      ],
      "metadata": {
        "id": "WwOVqP8oH1gL"
      }
    },
    {
      "cell_type": "code",
      "source": [
        " def random_player(game, state):\n",
        "  return random.choice(list(game.actions(state)))\n",
        " def player(search_algorithm):\n",
        "  return lambda game, state: search_algorithm(game, state)[1]"
      ],
      "metadata": {
        "id": "cNwIwCiPHkl7"
      },
      "execution_count": 57,
      "outputs": []
    }
  ]
}