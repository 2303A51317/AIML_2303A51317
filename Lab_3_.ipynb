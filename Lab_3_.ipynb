{
  "nbformat": 4,
  "nbformat_minor": 0,
  "metadata": {
    "colab": {
      "provenance": [],
      "authorship_tag": "ABX9TyNPjqBMkyeYBx1MOzi9ZBfJ",
      "include_colab_link": true
    },
    "kernelspec": {
      "name": "python3",
      "display_name": "Python 3"
    },
    "language_info": {
      "name": "python"
    }
  },
  "cells": [
    {
      "cell_type": "markdown",
      "metadata": {
        "id": "view-in-github",
        "colab_type": "text"
      },
      "source": [
        "<a href=\"https://colab.research.google.com/github/2303A51317/AIML_2303A51317/blob/main/Lab_3_.ipynb\" target=\"_parent\"><img src=\"https://colab.research.google.com/assets/colab-badge.svg\" alt=\"Open In Colab\"/></a>"
      ]
    },
    {
      "cell_type": "code",
      "execution_count": 20,
      "metadata": {
        "id": "7XOeYJr733sb"
      },
      "outputs": [],
      "source": [
        "from collections import namedtuple,Counter,defaultdict\n",
        "import random\n",
        "import math\n",
        "import functools\n",
        "cache=functools.lru_cache(10**6)"
      ]
    },
    {
      "cell_type": "markdown",
      "source": [
        " Implement the AI Game Strategy\n",
        " Part 1 (a). Install the Python Libraries required for Game Strategy. [CO2]\n",
        " 1. Install the python libraries- collections, random, math, functools,\n",
        " cache = functools.lru cache(10**6)\n",
        " 2. Implement a Game Class Constructor using action, is terminal, result, utility functions\n",
        " 3. A game is similar to a problem, but it has a terminal test instead of a goal test, and a\n",
        " utility for each terminal state.\n",
        " 4. Create a game subclass and implement actions, result, is terminal, and utility.\n",
        " 5. You will also need to set the initial attribute to the initial state; this can be done in the\n",
        " constructor"
      ],
      "metadata": {
        "id": "ly7H77L1463h"
      }
    },
    {
      "cell_type": "code",
      "source": [
        " class Game:\n",
        "  def actions(self, state):\n",
        "    ##Return a collection of the allowable moves from this state.\n",
        "    raise NotImplementedError\n",
        "  def result(self, state, move):\n",
        "    ##Return the state that results from making a move from a state.\n",
        "    raise NotImplementedError\n",
        "  def is_terminal(self, state):\n",
        "    ##Return True if this is a final state for the game.\n",
        "    return not self.actions(state)\n",
        "  def utility(self, state, player):\n",
        "    ##Return the value of this final state to player.\n",
        "    raise NotImplementedError"
      ],
      "metadata": {
        "id": "BwyO0dsn5BRi"
      },
      "execution_count": 21,
      "outputs": []
    },
    {
      "cell_type": "markdown",
      "source": [
        " Implement a Player Game using the Game Class Constructor."
      ],
      "metadata": {
        "id": "jGz4rhsQ8Hq_"
      }
    },
    {
      "cell_type": "code",
      "source": [
        "def play_game(game, strategies: dict, verbose=False):\n",
        "  ##Play a turn−taking game. strategies is a player name: function dict,\n",
        "  ##where function(state, game) is used to get the player s move.\n",
        "  state = game.initial\n",
        "  while not game.is_terminal(state):\n",
        "    player = state.to_move\n",
        "    move = strategies[player](game, state)\n",
        "    state = game.result(state, move)\n",
        "    if verbose:\n",
        "      print( Player , player, 'move:' , move)\n",
        "      print(state)\n",
        "      return state"
      ],
      "metadata": {
        "id": "tUkxCpjs8LTy"
      },
      "execution_count": 5,
      "outputs": []
    },
    {
      "cell_type": "markdown",
      "source": [
        " Part 2 Implement the Game Strategy Algorithms. [CO3]\n",
        " 1. Implement the MiniMax Search Algorithm"
      ],
      "metadata": {
        "id": "sqVRx5Ve-lJ1"
      }
    },
    {
      "cell_type": "code",
      "source": [
        " def  minimax_search(game, state):\n",
        "  ##Search game tree to determine best move; return (value, move) pair.\n",
        "    player = state.to_move\n",
        "    def max_value(state):\n",
        "        if game.is_terminal(state):\n",
        "            return game.utility(state, player), None\n",
        "\n",
        "        v, best_move = -math.inf, None\n",
        "        for a in game.actions(state):\n",
        "            v2, _ = min_value(game.result(state, a))\n",
        "            if v2 > v:\n",
        "                v, best_move = v2, a\n",
        "        return v, best_move\n",
        "\n",
        "    def min_value(state):\n",
        "        if game.is_terminal(state):\n",
        "            return game.utility(state, player), None\n",
        "\n",
        "        v, best_move = math.inf, None\n",
        "        for a in game.actions(state):\n",
        "            v2, _ = max_value(game.result(state, a))\n",
        "            if v2 < v:\n",
        "                v, best_move = v2, a\n",
        "        return v, best_move\n",
        "\n",
        "    player = state.to_move\n",
        "    return max_value(state)"
      ],
      "metadata": {
        "id": "sFE8yKjv-mKs"
      },
      "execution_count": 4,
      "outputs": []
    },
    {
      "cell_type": "markdown",
      "source": [
        "2. Implement the Alpha-Beta Search Algorithm"
      ],
      "metadata": {
        "id": "nfkdIW8aBR58"
      }
    },
    {
      "cell_type": "code",
      "source": [
        " def alphabeta_search(game, state):\n",
        "  ##Search game to determine best action; use alpha−beta pruning.\n",
        "  ##Search all the way to the leaves.\n",
        "    player = state.to_move\n",
        " def max_value(state, alpha, beta):\n",
        "        if game.is_terminal(state):\n",
        "            return game.utility(state, player), None\n",
        "            v, best_move = -math.inf, None\n",
        "        for a in game.actions(state):\n",
        "            v2, _ = min_value(game.result(state, a), alpha, beta)\n",
        "            if v2 > v:\n",
        "                v, best_move = v2, a\n",
        "            alpha = max(alpha, v)\n",
        "            if v >= beta:\n",
        "                return v, best_move\n",
        "        return v, best_move\n",
        "\n",
        " def min_value(state, alpha, beta):\n",
        "        if game.is_terminal(state):\n",
        "            return game.utility(state, player), None\n",
        "\n",
        "        v, best_move = math.inf, None\n",
        "        for a in game.actions(state):\n",
        "            v2, _ = max_value(game.result(state, a), alpha, beta)\n",
        "            if v2 < v:\n",
        "                v, best_move = v2, a\n",
        "            beta = min(beta, v)\n",
        "            if v <= alpha:\n",
        "                return v, best_move\n",
        "        return v, best_move\n",
        "        player = state.to_move\n",
        "        return max_value(state, -math.inf, math.inf)"
      ],
      "metadata": {
        "id": "9BXS6UI3BTcF"
      },
      "execution_count": 6,
      "outputs": []
    },
    {
      "cell_type": "markdown",
      "source": [
        " Part 3 Implement the Game Strategy using TicTocToe. [CO4]\n",
        " 1. Implement TicToCToe game using\n",
        " display constructors\n",
        " init , actions, result, is terminal, utility"
      ],
      "metadata": {
        "id": "RP6uFd_DC-7J"
      }
    },
    {
      "cell_type": "code",
      "source": [
        "def init(self, height=3, width=3, k=3):\n",
        "        self.k = k  # k in a row\n",
        "        self.squares = {(x, y) for x in range(width) for y in range(height)}\n",
        "        self.initial = Board(height=height, width=width, to_move='X', utility=0)\n",
        "\n",
        "def actions(self,board):\n",
        "        \"\"\"Legal moves are any square not yet taken.\"\"\"\n",
        "        return self.squares_set(board)\n",
        "\n",
        "def result(self, board, square):\n",
        "        \"\"\"Place a marker for the current player on the square.\"\"\"\n",
        "        player = board.to_move\n",
        "        board = board.new({square: player}, to_move=('O' if player == 'X' else 'X'))\n",
        "        win = k_in_row(board, player, square, self.k)\n",
        "        board.utility = 0 if not win else 1 if player == 'X' else -1\n",
        "        return board\n",
        "\n",
        "def utility(self, board, player):\n",
        "        \"\"\"Return the value to the player; 1 for win, -1 for loss, 0 otherwise.\"\"\"\n",
        "        return board.utility if player == 'X' else -board.utility\n",
        "\n",
        "def is_terminal(self, board):\n",
        "        \"\"\"A board is a terminal state if it is won or there are no empty squares.\"\"\"\n",
        "        return board.utility != 0 or len(self.squares) == len(board)\n",
        "\n",
        "def display(self, board):\n",
        "        print(board)\n",
        "\n",
        "def k_in_row(board, player, square, k):\n",
        "    \"\"\"True if the player has k pieces in a line through the square.\"\"\"\n",
        "    def in_row(x, y, dx, dy):\n",
        "        return 0 if board[x, y] != player else 1 + in_row(x + dx, y + dy, dx, dy)\n",
        "        return any(in_row(*square, dx, dy) + in_row(*square, -dx, -dy) - 1 >= k\n",
        "                   for (dx, dy) in ((0, 1), (1, 0), (1, 1), (1, -1)))"
      ],
      "metadata": {
        "id": "8tCy1BBN0vgK"
      },
      "execution_count": 3,
      "outputs": []
    },
    {
      "cell_type": "markdown",
      "source": [
        " Implement a Game Board using defaultdict using init , new, missing , hash ,\n",
        " repr"
      ],
      "metadata": {
        "id": "DxBQdFW4DmXu"
      }
    },
    {
      "cell_type": "code",
      "source": [
        "\n",
        "\n",
        "class Board(defaultdict):\n",
        "    empty = '.'\n",
        "    off = '#'\n",
        "\n",
        "    def __init__(self, width=8, height=8, to_move=None, **kwds):\n",
        "        self._dict_.update(width=width, height=height, to_move=to_move, **kwds)\n",
        "        for x in range(width):\n",
        "            for y in range(height):\n",
        "                self[(x, y)] = self.empty\n",
        "\n",
        "    def new(self, changes: dict, **kwds) -> 'Board':\n",
        "        board = Board(width=self.width, height=self.height, **kwds)\n",
        "        board.update(self)\n",
        "        board.update(changes)\n",
        "        return board\n",
        "\n",
        "    def missing(self, loc):\n",
        "        x, y = loc\n",
        "        if 0 <= x < self.width and 0 <= y < self.height:\n",
        "            return self[(x, y)]\n",
        "        else:\n",
        "            return self.off\n",
        "\n",
        "    def __hash__(self):\n",
        "        return hash(tuple(sorted(self.items()))) + hash(self.to_move)\n",
        "\n",
        "    def __repr__(self):\n",
        "        def row(y):\n",
        "            return ' '.join(self[x, y] for x in range(self.width))\n",
        "        return '\\n'.join(map(row, range(self.height))) + '\\n'"
      ],
      "metadata": {
        "id": "fcWtDtNUDsj4"
      },
      "execution_count": 19,
      "outputs": []
    },
    {
      "cell_type": "markdown",
      "source": [
        " Implement random player(game,state) and player(search algorithm)"
      ],
      "metadata": {
        "id": "WwOVqP8oH1gL"
      }
    },
    {
      "cell_type": "code",
      "source": [
        "  def random_player(game, state): return random.choice(list(game.actions(state)))\n",
        "  def player(search_algorithm):\n",
        " # A game player who uses the specified search_algorithm\n",
        " return lambda game, state: search_algorithm(game, state)[1]"
      ],
      "metadata": {
        "id": "cNwIwCiPHkl7"
      },
      "execution_count": 1,
      "outputs": []
    }
  ]
}